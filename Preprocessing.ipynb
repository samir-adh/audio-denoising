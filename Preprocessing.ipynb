{
 "cells": [
  {
   "cell_type": "code",
   "execution_count": 6,
   "metadata": {},
   "outputs": [],
   "source": [
    "from tqdm import tqdm\n",
    "import os\n",
    "import soundfile\n",
    "import time as Time\n",
    "import librosa\n",
    "import numpy as np\n",
    "import pandas as pd"
   ]
  },
  {
   "cell_type": "markdown",
   "metadata": {},
   "source": [
    "How long to generate all spectrograms from the dataset ?"
   ]
  },
  {
   "cell_type": "code",
   "execution_count": 7,
   "metadata": {},
   "outputs": [
    {
     "name": "stdout",
     "output_type": "stream",
     "text": [
      "There is a total of 2703 audio files in the dataset.\n"
     ]
    },
    {
     "name": "stderr",
     "output_type": "stream",
     "text": [
      "/home/samir/Desktop/audio-denoising/venv/lib/python3.12/site-packages/librosa/core/spectrum.py:266: UserWarning: n_fft=2048 is too large for input signal of length=1\n",
      "  warnings.warn(\n"
     ]
    },
    {
     "name": "stdout",
     "output_type": "stream",
     "text": [
      "Avergage time to compute and save STFT : 0.003s.\n",
      "Predicted time for the whole dataset : 9.174s\n"
     ]
    },
    {
     "name": "stderr",
     "output_type": "stream",
     "text": [
      "100%|██████████| 2703/2703 [00:11<00:00, 227.66it/s]"
     ]
    },
    {
     "name": "stdout",
     "output_type": "stream",
     "text": [
      "Total time : 11.874s.\n",
      "Wrote 19404 files.\n"
     ]
    },
    {
     "name": "stderr",
     "output_type": "stream",
     "text": [
      "\n"
     ]
    }
   ],
   "source": [
    "# Create a directory to store preprocessed files\n",
    "os.makedirs(\"preprocessed\", exist_ok=True)\n",
    "os.makedirs(\"preprocessed/clean_audio\", exist_ok=True)\n",
    "os.makedirs(\"preprocessed/noisy_audio\", exist_ok=True)\n",
    "os.makedirs(\"preprocessed/temp\", exist_ok=True)\n",
    "\n",
    "DEV_DATASET = \"datasets/LibriSpeech/dev-clean\"\n",
    "TRAIN_DATASET = \"datasets/LibriSpeech/train-clean-100\"\n",
    "dataset_path = DEV_DATASET\n",
    "audio_files_list = []\n",
    "for root, dirs, files in os.walk(dataset_path):\n",
    "    for file in files:\n",
    "        if file.endswith(\".flac\"):\n",
    "            fullpath = os.path.join(root, file)\n",
    "            audio_files_list.append(fullpath)\n",
    "print(f\"There is a total of {len(audio_files_list)} audio files in the dataset.\")\n",
    "\n",
    "n_benchmark_samples = 256\n",
    "benchmark_sample = audio_files_list[:n_benchmark_samples]\n",
    "\n",
    "\n",
    "fwritten = 0\n",
    "def store_stft(dirpath: str, audio_file: str, n_fft=2048, hop_length=None):\n",
    "    t_start = Time.time()\n",
    "    if hop_length is None:\n",
    "        hop_length = n_fft // 4\n",
    "    signal, samplerate = soundfile.read(audio_file)\n",
    "    n_segments = len(signal) // samplerate\n",
    "    for index in range(n_segments):\n",
    "        segment = signal[index : index + 1]\n",
    "        stft_signal = librosa.stft(segment, n_fft=n_fft, hop_length=hop_length)\n",
    "        stft_signal.shape\n",
    "        magnitude = np.abs(stft_signal)\n",
    "        filepath = hex(np.abs(hash(magnitude.tobytes())))\n",
    "        fullpath = os.path.join(dirpath, filepath)\n",
    "        if os.path.exists(fullpath):\n",
    "            raise Exception(f\"Hash collision for file : {filepath}.\")\n",
    "        np.save(fullpath, magnitude)\n",
    "        global fwritten\n",
    "        fwritten += 1\n",
    "    t_stop = Time.time()\n",
    "    return t_stop - t_start\n",
    "\n",
    "\n",
    "computing_times = np.zeros(len(benchmark_sample))\n",
    "for index, audio_file in enumerate(benchmark_sample):\n",
    "    ttc = store_stft(\"preprocessed/temp\", audio_file)\n",
    "    computing_times[index] = ttc\n",
    "\n",
    "\n",
    "avg_ttc = np.mean(computing_times)\n",
    "print(f\"Avergage time to compute and save STFT : {avg_ttc:.3f}s.\")\n",
    "print(f\"Predicted time for the whole dataset : {len(audio_files_list)*avg_ttc:.3f}s\")\n",
    "\n",
    "start = Time.time()\n",
    "\n",
    "if False: # Change to `True` to store all the stfts\n",
    "    for index in tqdm(range(len(audio_files_list))):\n",
    "        audio_file = audio_files_list[index]\n",
    "        store_stft(\"preprocessed/clean_audio\", audio_file)\n",
    "    stop = Time.time()\n",
    "    print(f\"Total time : {stop-start:.3f}s.\")\n",
    "    print(f\"Wrote {fwritten} files.\")"
   ]
  },
  {
   "cell_type": "markdown",
   "metadata": {},
   "source": [
    "#### Now we need to create the noisy audios\n",
    "According to the README, these are the mapping between the target number and the class of each sound:\n",
    "- target // 10 == 0 => Animals\n",
    "- target // 10 == 1 => Natural soundscapes & water sounds\n",
    "- target // 10 == 2 => Human, non-speech sounds\n",
    "- target // 10 == 3 => Interior/domestic sounds\n",
    "- target // 10 == 4 => Exterior/urban noises\n",
    "\n",
    "What we need to do is first to create five folder for each class.\n",
    "Then for each file in the whole dataset, we will cut it in 1s segments and put these segment in the folder corresponding to the class of the segment.\n",
    "This will give us some basis to create a training dataset which will consist of the speech recordings to which we will and some noise from 1 or more classes from the dataset.\n",
    "\n",
    "This also raise the question of the magnitude of the noise that will be added.\n",
    "It should be high enough to train the model on useful situations but low enough to avoid polluting the audio.\n",
    "Although maybe this won't make a difference for example if the model rely significately more of the frequency than the magnitude to detect the noise. One thing to consider is that the magnintude of the added noise should be random to prevent the model from potentially detecting noise only by looking at the magnitude. \n",
    "\n"
   ]
  },
  {
   "cell_type": "code",
   "execution_count": 8,
   "metadata": {},
   "outputs": [
    {
     "data": {
      "text/html": [
       "<div>\n",
       "<style scoped>\n",
       "    .dataframe tbody tr th:only-of-type {\n",
       "        vertical-align: middle;\n",
       "    }\n",
       "\n",
       "    .dataframe tbody tr th {\n",
       "        vertical-align: top;\n",
       "    }\n",
       "\n",
       "    .dataframe thead th {\n",
       "        text-align: right;\n",
       "    }\n",
       "</style>\n",
       "<table border=\"1\" class=\"dataframe\">\n",
       "  <thead>\n",
       "    <tr style=\"text-align: right;\">\n",
       "      <th></th>\n",
       "      <th>filename</th>\n",
       "      <th>fold</th>\n",
       "      <th>target</th>\n",
       "      <th>category</th>\n",
       "      <th>esc10</th>\n",
       "      <th>src_file</th>\n",
       "      <th>take</th>\n",
       "    </tr>\n",
       "  </thead>\n",
       "  <tbody>\n",
       "    <tr>\n",
       "      <th>0</th>\n",
       "      <td>1-100032-A-0.wav</td>\n",
       "      <td>1</td>\n",
       "      <td>0</td>\n",
       "      <td>dog</td>\n",
       "      <td>True</td>\n",
       "      <td>100032</td>\n",
       "      <td>A</td>\n",
       "    </tr>\n",
       "    <tr>\n",
       "      <th>1</th>\n",
       "      <td>1-100038-A-14.wav</td>\n",
       "      <td>1</td>\n",
       "      <td>14</td>\n",
       "      <td>chirping_birds</td>\n",
       "      <td>False</td>\n",
       "      <td>100038</td>\n",
       "      <td>A</td>\n",
       "    </tr>\n",
       "    <tr>\n",
       "      <th>2</th>\n",
       "      <td>1-100210-A-36.wav</td>\n",
       "      <td>1</td>\n",
       "      <td>36</td>\n",
       "      <td>vacuum_cleaner</td>\n",
       "      <td>False</td>\n",
       "      <td>100210</td>\n",
       "      <td>A</td>\n",
       "    </tr>\n",
       "    <tr>\n",
       "      <th>3</th>\n",
       "      <td>1-100210-B-36.wav</td>\n",
       "      <td>1</td>\n",
       "      <td>36</td>\n",
       "      <td>vacuum_cleaner</td>\n",
       "      <td>False</td>\n",
       "      <td>100210</td>\n",
       "      <td>B</td>\n",
       "    </tr>\n",
       "    <tr>\n",
       "      <th>4</th>\n",
       "      <td>1-101296-A-19.wav</td>\n",
       "      <td>1</td>\n",
       "      <td>19</td>\n",
       "      <td>thunderstorm</td>\n",
       "      <td>False</td>\n",
       "      <td>101296</td>\n",
       "      <td>A</td>\n",
       "    </tr>\n",
       "  </tbody>\n",
       "</table>\n",
       "</div>"
      ],
      "text/plain": [
       "            filename  fold  target        category  esc10  src_file take\n",
       "0   1-100032-A-0.wav     1       0             dog   True    100032    A\n",
       "1  1-100038-A-14.wav     1      14  chirping_birds  False    100038    A\n",
       "2  1-100210-A-36.wav     1      36  vacuum_cleaner  False    100210    A\n",
       "3  1-100210-B-36.wav     1      36  vacuum_cleaner  False    100210    B\n",
       "4  1-101296-A-19.wav     1      19    thunderstorm  False    101296    A"
      ]
     },
     "execution_count": 8,
     "metadata": {},
     "output_type": "execute_result"
    }
   ],
   "source": [
    "NOISE_DATASET = \"datasets/ESC-50-master/\"\n",
    "audio_dir = os.path.join(NOISE_DATASET, \"audio\")\n",
    "labels_path = os.path.join(NOISE_DATASET,\"meta/esc50.csv\")\n",
    "labels = pd.read_csv(labels_path)\n",
    "labels.head()"
   ]
  }
 ],
 "metadata": {
  "kernelspec": {
   "display_name": "venv",
   "language": "python",
   "name": "python3"
  },
  "language_info": {
   "codemirror_mode": {
    "name": "ipython",
    "version": 3
   },
   "file_extension": ".py",
   "mimetype": "text/x-python",
   "name": "python",
   "nbconvert_exporter": "python",
   "pygments_lexer": "ipython3",
   "version": "3.12.3"
  }
 },
 "nbformat": 4,
 "nbformat_minor": 2
}
